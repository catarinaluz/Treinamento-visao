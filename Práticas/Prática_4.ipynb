{
  "nbformat": 4,
  "nbformat_minor": 0,
  "metadata": {
    "colab": {
      "provenance": []
    },
    "kernelspec": {
      "name": "python3",
      "display_name": "Python 3"
    },
    "language_info": {
      "name": "python"
    }
  },
  "cells": [
    {
      "cell_type": "markdown",
      "source": [
        "**Funções de desenho**"
      ],
      "metadata": {
        "id": "7xvEi0lNRFcG"
      }
    },
    {
      "cell_type": "markdown",
      "source": [
        "Roteiro da prática:\n",
        "Desenhar a bandeira do Brasil\n",
        "\n",
        "1. Criar uma imagem com fundo verde\n",
        "\n",
        "2. Criar o losango usando a função `fillConvexPoly()`\n",
        "\n",
        "3. Criar um círculo dentro do losango usando a função `circle()`\n",
        "\n",
        "4. Criar uma linha usando a função `line()`\n",
        "\n",
        "5. Criar um retângulo usando a funçâo `rectangle()`"
      ],
      "metadata": {
        "id": "P74SSG2_RnEE"
      }
    },
    {
      "cell_type": "code",
      "execution_count": 72,
      "metadata": {
        "id": "CBX7uzFBQ9qv"
      },
      "outputs": [],
      "source": [
        "import cv2 as cv\n",
        "import numpy as np\n",
        "import matplotlib.pyplot as plt\n",
        "from google.colab.patches import cv2_imshow"
      ]
    },
    {
      "cell_type": "code",
      "source": [
        "img = np.zeros((300,500,3), dtype = np.int32)\n",
        "num_rows,num_cols,num_chanels = img.shape\n",
        "\n",
        "for chanel in range(0, num_chanels):\n",
        "  if chanel == 0:\n",
        "    for row in range(0, num_rows):\n",
        "      for col in range (0,num_cols):\n",
        "        img[row,col,chanel] = 70\n",
        "  elif chanel == 1:\n",
        "    for row in range(0, num_rows):\n",
        "      for col in range (0,num_cols):\n",
        "        img[row,col,chanel] = 180\n",
        "  else:\n",
        "    for row in range(0, num_rows):\n",
        "      for col in range (0,num_cols):\n",
        "        img[row,col,chanel] = 40"
      ],
      "metadata": {
        "id": "k71s3ypUS4yZ"
      },
      "execution_count": 73,
      "outputs": []
    },
    {
      "cell_type": "code",
      "source": [
        "cv2_imshow(img)"
      ],
      "metadata": {
        "colab": {
          "base_uri": "https://localhost:8080/",
          "height": 317
        },
        "id": "SS9kfTUfT4fY",
        "outputId": "dfb7f394-c1e3-4893-8d59-de95a5d294b2"
      },
      "execution_count": 74,
      "outputs": [
        {
          "output_type": "display_data",
          "data": {
            "text/plain": [
              "<PIL.Image.Image image mode=RGB size=500x300 at 0x7F1336816520>"
            ],
            "image/png": "[encoded data removed]"
          },
          "metadata": {}
        }
      ]
    },
    {
      "cell_type": "code",
      "source": [
        "contorno = np.zeros(shape = (6,2), dtype = np.int32)\n",
        "\n",
        "contorno[0] = (num_cols*0.1, num_rows/2)\n",
        "contorno[1] = (num_cols/2, num_rows*0.1)\n",
        "contorno[2] = (num_cols*0.9, num_rows/2)\n",
        "contorno[3] = (num_cols*0.1,num_rows/2)\n",
        "contorno[4] = (num_cols/2, num_rows*0.9)\n",
        "contorno[5] = (num_cols*0.9, num_rows/2)\n",
        "\n",
        "contorno"
      ],
      "metadata": {
        "colab": {
          "base_uri": "https://localhost:8080/"
        },
        "id": "Bof748ZeUo1h",
        "outputId": "70810ac9-8784-433a-b88f-42e8e5e31a08"
      },
      "execution_count": 75,
      "outputs": [
        {
          "output_type": "execute_result",
          "data": {
            "text/plain": [
              "array([[ 50, 150],\n",
              "       [250,  30],\n",
              "       [450, 150],\n",
              "       [ 50, 150],\n",
              "       [250, 270],\n",
              "       [450, 150]], dtype=int32)"
            ]
          },
          "metadata": {},
          "execution_count": 75
        }
      ]
    },
    {
      "cell_type": "code",
      "source": [
        "img = cv.fillConvexPoly(img = img, points = contorno, color = (0,255,255));"
      ],
      "metadata": {
        "id": "2qt26WyEWGEQ"
      },
      "execution_count": 76,
      "outputs": []
    },
    {
      "cell_type": "code",
      "source": [
        "cv2_imshow(img)"
      ],
      "metadata": {
        "colab": {
          "base_uri": "https://localhost:8080/",
          "height": 317
        },
        "id": "zX24CbeHXBMI",
        "outputId": "c6d6dfda-01ac-4d7d-b4a8-ff1f2feec985"
      },
      "execution_count": 77,
      "outputs": [
        {
          "output_type": "display_data",
          "data": {
            "text/plain": [
              "<PIL.Image.Image image mode=RGB size=500x300 at 0x7F1336894E50>"
            ],
            "image/png": "[encoded data removed]"
          },
          "metadata": {}
        }
      ]
    },
    {
      "cell_type": "code",
      "source": [
        "raio = 80\n",
        "cv.circle(img = img, \n",
        "          center = (int(num_cols/2),int(num_rows/2)),\n",
        "          radius = raio,\n",
        "          color = (255,0,0),\n",
        "          thickness =-1);"
      ],
      "metadata": {
        "id": "PbT4CWUTXfAv"
      },
      "execution_count": 78,
      "outputs": []
    },
    {
      "cell_type": "code",
      "source": [
        "cv2_imshow(img)"
      ],
      "metadata": {
        "colab": {
          "base_uri": "https://localhost:8080/",
          "height": 317
        },
        "id": "LIHIQPHSX6Kq",
        "outputId": "e41ff630-87a4-43dd-9c1b-cf6293f10ad6"
      },
      "execution_count": 79,
      "outputs": [
        {
          "output_type": "display_data",
          "data": {
            "text/plain": [
              "<PIL.Image.Image image mode=RGB size=500x300 at 0x7F13368946D0>"
            ],
            "image/png": "[encoded data removed]"
          },
          "metadata": {}
        }
      ]
    },
    {
      "cell_type": "code",
      "source": [
        "cv.line(img = img,\n",
        "        pt1 = (int(num_cols/2-raio), int(num_rows/2-num_rows*0.07)),\n",
        "        pt2 = (int(num_cols/2+raio), int(num_rows/2 + num_rows*0.01)),\n",
        "        color = (255,255,255),\n",
        "        thickness = 15);"
      ],
      "metadata": {
        "id": "z4JpV4e5YZDf"
      },
      "execution_count": 80,
      "outputs": []
    },
    {
      "cell_type": "code",
      "source": [
        "cv2_imshow(img)"
      ],
      "metadata": {
        "colab": {
          "base_uri": "https://localhost:8080/",
          "height": 317
        },
        "id": "qWnMJ3Hmbftz",
        "outputId": "60a33645-033f-4c96-e037-a0cf30c3fdc0"
      },
      "execution_count": 81,
      "outputs": [
        {
          "output_type": "display_data",
          "data": {
            "text/plain": [
              "<PIL.Image.Image image mode=RGB size=500x300 at 0x7F13368DE640>"
            ],
            "image/png": "[encoded data removed]"
          },
          "metadata": {}
        }
      ]
    },
    {
      "cell_type": "code",
      "source": [
        "cv.rectangle(img = img,\n",
        "             pt1 = (0,0),\n",
        "             pt2 = (int(num_cols),int(num_rows)),\n",
        "             color = (0,0,0),\n",
        "             thickness = 15);"
      ],
      "metadata": {
        "id": "4a62ZfARbssN"
      },
      "execution_count": 82,
      "outputs": []
    },
    {
      "cell_type": "code",
      "source": [
        "cv2_imshow(img)"
      ],
      "metadata": {
        "colab": {
          "base_uri": "https://localhost:8080/",
          "height": 317
        },
        "id": "58_5WnB-cKFf",
        "outputId": "6bea773e-d40b-427d-cd3c-24e1679d38a8"
      },
      "execution_count": 83,
      "outputs": [
        {
          "output_type": "display_data",
          "data": {
            "text/plain": [
              "<PIL.Image.Image image mode=RGB size=500x300 at 0x7F13369F9760>"
            ],
            "image/png": "[encoded data removed]"
          },
          "metadata": {}
        }
      ]
    },
    {
      "cell_type": "code",
      "source": [],
      "metadata": {
        "id": "cVv7jPEocbZE"
      },
      "execution_count": null,
      "outputs": []
    }
  ]
}